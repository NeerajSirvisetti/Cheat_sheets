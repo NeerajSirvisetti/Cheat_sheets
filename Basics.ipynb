{
  "nbformat": 4,
  "nbformat_minor": 0,
  "metadata": {
    "colab": {
      "provenance": [],
      "authorship_tag": "ABX9TyPgC2uGyyB6pgnpgXiFmV3M",
      "include_colab_link": true
    },
    "kernelspec": {
      "name": "python3",
      "display_name": "Python 3"
    },
    "language_info": {
      "name": "python"
    }
  },
  "cells": [
    {
      "cell_type": "markdown",
      "metadata": {
        "id": "view-in-github",
        "colab_type": "text"
      },
      "source": [
        "<a href=\"https://colab.research.google.com/github/NeerajSirvisetti/Cheat_sheets/blob/main/Basics.ipynb\" target=\"_parent\"><img src=\"https://colab.research.google.com/assets/colab-badge.svg\" alt=\"Open In Colab\"/></a>"
      ]
    },
    {
      "cell_type": "markdown",
      "source": [
        "# Basics\n",
        "\n",
        "## printing and taking inputs"
      ],
      "metadata": {
        "id": "ENqOdP7sILOO"
      }
    },
    {
      "cell_type": "code",
      "execution_count": 1,
      "metadata": {
        "colab": {
          "base_uri": "https://localhost:8080/"
        },
        "id": "xvVu6IA_CCPB",
        "outputId": "d3bcac4e-80f0-42c2-b96f-04249cb797c0"
      },
      "outputs": [
        {
          "output_type": "stream",
          "name": "stdout",
          "text": [
            "Hello Python !!\n"
          ]
        }
      ],
      "source": [
        "print(\"Hello Python !!\")"
      ]
    },
    {
      "cell_type": "code",
      "source": [
        "name = input('Enter Your Name: ')\n",
        "print(\"My name is :\",name)"
      ],
      "metadata": {
        "id": "88wKejEQCZKN",
        "colab": {
          "base_uri": "https://localhost:8080/"
        },
        "outputId": "7becb8a7-146d-4356-eff8-b0cf805a74f6"
      },
      "execution_count": 2,
      "outputs": [
        {
          "output_type": "stream",
          "name": "stdout",
          "text": [
            "Enter Your Name: Neeraj\n",
            "My name is : Neeraj\n"
          ]
        }
      ]
    },
    {
      "cell_type": "code",
      "source": [
        "# python is case sensitive\n",
        "nama = 5\n",
        "Name = 10\n",
        "# both a and A are different\n",
        "print(\"name: \", name ,\"\\nName: \", Name)"
      ],
      "metadata": {
        "colab": {
          "base_uri": "https://localhost:8080/"
        },
        "id": "jsfGMxGdCXiO",
        "outputId": "0f48df12-bab7-4634-a4d3-179ba49373b2"
      },
      "execution_count": 5,
      "outputs": [
        {
          "output_type": "stream",
          "name": "stdout",
          "text": [
            "name:  Neeraj \n",
            "Name:  10\n"
          ]
        }
      ]
    },
    {
      "cell_type": "markdown",
      "source": [
        "## Data type"
      ],
      "metadata": {
        "id": "hsPxt2azCtIT"
      }
    },
    {
      "cell_type": "code",
      "source": [
        "# 2. Data Types\n",
        "\n",
        "# Numeric Types\n",
        "integer_var = 42\n",
        "float_var = 3.14\n",
        "complex_var = 2 + 3j\n",
        "\n",
        "# String Type\n",
        "string_var = \"Hello, Python!\"\n",
        "\n",
        "# List\n",
        "my_list = [1, 2, 3, \"apple\", \"banana\"]\n",
        "\n",
        "# Tuple\n",
        "my_tuple = (4, 5, \"orange\", \"grape\")\n",
        "\n",
        "# Set\n",
        "my_set = {1, 2, 3, 3, 4}\n",
        "\n",
        "# Dictionary\n",
        "my_dict = {\"name\": \"John\", \"age\": 25, \"city\": \"New York\"}\n",
        "\n",
        "# Boolean\n",
        "is_true = True\n",
        "is_false = False\n",
        "\n",
        "# Displaying the values\n",
        "print(\"Integer:\", integer_var)\n",
        "print(\"Float:\", float_var)\n",
        "print(\"Complex:\", complex_var)\n",
        "print(\"String:\", string_var)\n",
        "print(\"List:\", my_list)\n",
        "print(\"Tuple:\", my_tuple)\n",
        "print(\"Set:\", my_set)\n",
        "print(\"Dictionary:\", my_dict)\n",
        "print(\"Boolean True:\", is_true)\n",
        "print(\"Boolean False:\", is_false)"
      ],
      "metadata": {
        "id": "0-hZDKu4CjdC",
        "colab": {
          "base_uri": "https://localhost:8080/"
        },
        "outputId": "8c2f697d-578c-4f0c-eb0b-ee8b2591cea4"
      },
      "execution_count": 6,
      "outputs": [
        {
          "output_type": "stream",
          "name": "stdout",
          "text": [
            "Integer: 42\n",
            "Float: 3.14\n",
            "Complex: (2+3j)\n",
            "String: Hello, Python!\n",
            "List: [1, 2, 3, 'apple', 'banana']\n",
            "Tuple: (4, 5, 'orange', 'grape')\n",
            "Set: {1, 2, 3, 4}\n",
            "Dictionary: {'name': 'John', 'age': 25, 'city': 'New York'}\n",
            "Boolean True: True\n",
            "Boolean False: False\n"
          ]
        }
      ]
    },
    {
      "cell_type": "code",
      "source": [
        "#Type checking\n",
        "print(type(integer_var))"
      ],
      "metadata": {
        "colab": {
          "base_uri": "https://localhost:8080/"
        },
        "id": "09etXoO_Cz-k",
        "outputId": "69b3f317-ab26-43d7-edbb-477f8095c7f7"
      },
      "execution_count": 7,
      "outputs": [
        {
          "output_type": "stream",
          "name": "stdout",
          "text": [
            "<class 'int'>\n"
          ]
        }
      ]
    },
    {
      "cell_type": "code",
      "source": [
        "k = input()\n",
        "print(type(k))"
      ],
      "metadata": {
        "colab": {
          "base_uri": "https://localhost:8080/"
        },
        "id": "X4Lkj86FC2Xq",
        "outputId": "6d86c509-44c9-46ae-9490-e04a5052bcca"
      },
      "execution_count": 9,
      "outputs": [
        {
          "output_type": "stream",
          "name": "stdout",
          "text": [
            "456\n",
            "<class 'str'>\n"
          ]
        }
      ]
    },
    {
      "cell_type": "markdown",
      "source": [
        "## 3. Identifiers\n",
        "\n",
        "Identifiers are names given to variables, functions, classes, or other entities in Python. They play a crucial role in making your code readable and understandable.\n",
        "\n",
        "## Rules for Identifiers\n",
        "\n",
        "1. Must start with a letter (a-z, A-Z) or an underscore (_).\n",
        "2. Can be followed by letters, digits, or underscores.\n",
        "3. Case-sensitive (e.g., `myVariable` and `MyVariable` are different).\n",
        "4. Must not include keywords as variable/Identifiers names\n",
        "\n"
      ],
      "metadata": {
        "id": "cXkItRTBDAhO"
      }
    },
    {
      "cell_type": "code",
      "source": [
        "n1ame = \"Jonathan\"\n",
        "#int = \"hi hello\"\n",
        "#print(int)\n",
        "\n",
        "k = 45.0\n",
        "\n",
        "print(n1ame,type(n1ame))\n",
        "print(k,type(k))"
      ],
      "metadata": {
        "id": "thc-n5pRC3Oi",
        "colab": {
          "base_uri": "https://localhost:8080/"
        },
        "outputId": "8f1d8134-ae08-4e87-fcca-269c9017a62b"
      },
      "execution_count": 13,
      "outputs": [
        {
          "output_type": "stream",
          "name": "stdout",
          "text": [
            "Jonathan <class 'str'>\n",
            "45.0 <class 'float'>\n"
          ]
        }
      ]
    },
    {
      "cell_type": "code",
      "source": [
        "_name = \"John\"\n",
        "surname = \"Doe\""
      ],
      "metadata": {
        "id": "GMAX5o-NDDrj"
      },
      "execution_count": null,
      "outputs": []
    },
    {
      "cell_type": "markdown",
      "source": [
        "## Operators"
      ],
      "metadata": {
        "id": "6zXWkK-sDNwb"
      }
    },
    {
      "cell_type": "code",
      "source": [
        "#Arithmetic\n",
        "x = 6\n",
        "y = 65\n",
        "z = x-y\n",
        "print(z)\n",
        "print(10.4 + 3) # Addition\n",
        "print(10 - 3) # Subtratcion\n",
        "print(10 / 3) # Division\n",
        "print(10 * 3) # Multiplication\n",
        "print(19.67 // 5) # Floor Division\n",
        "print(10 ** 3) # Exponentiation (x ** y) raise x to y\n",
        "print(10 % 3) # Module (returns remainder after division)"
      ],
      "metadata": {
        "colab": {
          "base_uri": "https://localhost:8080/"
        },
        "id": "7Wq9TAFeDHUj",
        "outputId": "66b0134b-f81a-4d71-9883-a999c2140b87"
      },
      "execution_count": 14,
      "outputs": [
        {
          "output_type": "stream",
          "name": "stdout",
          "text": [
            "-59\n",
            "13.4\n",
            "7\n",
            "3.3333333333333335\n",
            "30\n",
            "3.0\n",
            "1000\n",
            "1\n"
          ]
        }
      ]
    },
    {
      "cell_type": "code",
      "source": [
        "#Comparision\n",
        "x, y = 5, 15\n",
        "# x , y = input().split(\" \")\n",
        "print(x == y) # Is 5 Equal to 15\n",
        "print(x != y) # Is 5 Not Equal to 15\n",
        "print(x > y) # Is 5 Greater Than 15\n",
        "print(x >= y) # Is 5 Greater Than or Equal to 15\n",
        "print(x < y) # Is 5 Less Than 15\n",
        "print(x <= y) # Is 5 Less Than or Equal to 15"
      ],
      "metadata": {
        "colab": {
          "base_uri": "https://localhost:8080/"
        },
        "id": "78dRU3NWDROT",
        "outputId": "3351a4a3-a278-4fab-8fce-1121ad53e48a"
      },
      "execution_count": 15,
      "outputs": [
        {
          "output_type": "stream",
          "name": "stdout",
          "text": [
            "False\n",
            "True\n",
            "False\n",
            "False\n",
            "True\n",
            "True\n"
          ]
        }
      ]
    },
    {
      "cell_type": "code",
      "source": [
        "#Logical\n",
        "x, y = 15, 15\n",
        "print(x == y and x == 5) # and Operator: Are Both Statements True\n",
        "print(x == y or x == 15) # or Operator: Is one of the given Statements True\n",
        "print(not (x == y)) # is the given statement False i.e not True => evaluates to False and vice versa"
      ],
      "metadata": {
        "colab": {
          "base_uri": "https://localhost:8080/"
        },
        "id": "Q_dWrLv2DWR2",
        "outputId": "dc1987f9-09e7-4d19-e522-05c7978e4385"
      },
      "execution_count": 16,
      "outputs": [
        {
          "output_type": "stream",
          "name": "stdout",
          "text": [
            "False\n",
            "True\n",
            "False\n"
          ]
        }
      ]
    },
    {
      "cell_type": "code",
      "source": [
        "#Bitwise\n",
        "x, y = 10, 12\n",
        "print(bin(x)) # Binary Representation of the given number\n",
        "print(bin(y)) # Binary Representation of the given number\n",
        "print(bin(x & y)) # Binary And Operator (Gives 1 if both bits are 1 else 0)\n",
        "print(bin(x | y)) # Binary Or Operator (Gives 1 if at least one bit is 1 else 0)\n",
        "print(bin(y << 2)) # Binary Left Shift Operator (Shifts Bits Left and pads remaining with 0)\n",
        "print(bin(y >> 3)) # Binary Right Operator (Shifts Bits Right and pads remaining with0)\n",
        "print(bin(~x)) # Binary Not Operator (Turns 0 bit to 1 and 1 to 0)"
      ],
      "metadata": {
        "colab": {
          "base_uri": "https://localhost:8080/"
        },
        "id": "G5ti9bsQDaPf",
        "outputId": "02d24a7b-459e-40ee-93ce-f9550a3c6a12"
      },
      "execution_count": 17,
      "outputs": [
        {
          "output_type": "stream",
          "name": "stdout",
          "text": [
            "0b1010\n",
            "0b1100\n",
            "0b1000\n",
            "0b1110\n",
            "0b110000\n",
            "0b1\n",
            "-0b1011\n"
          ]
        }
      ]
    },
    {
      "cell_type": "code",
      "source": [
        "#Identity\n",
        "x, y, z = 1, 2, 2\n",
        "\n",
        "print(id(x),id(y),id(z))\n",
        "print(x is y) # Check if x and y both point to the same memory address\n",
        "print(y is z) # Check if y and z both point to the same memory address"
      ],
      "metadata": {
        "colab": {
          "base_uri": "https://localhost:8080/"
        },
        "id": "3gtbZ1RfDjiM",
        "outputId": "f87e52ef-1c1f-447d-e894-03d4dbea1056"
      },
      "execution_count": 19,
      "outputs": [
        {
          "output_type": "stream",
          "name": "stdout",
          "text": [
            "133156888084720 133156888084752 133156888084752\n",
            "False\n",
            "True\n"
          ]
        }
      ]
    },
    {
      "cell_type": "code",
      "source": [
        "#Membership\n",
        "x, y = 1, 15\n",
        "nums = [1, 2, 3, 4]\n",
        "print(x in nums) # Check if 1 is in the nums list\n",
        "print(y not in nums) # Check if 15 is not in the nums list"
      ],
      "metadata": {
        "colab": {
          "base_uri": "https://localhost:8080/"
        },
        "id": "uB7Gy-b9DqO9",
        "outputId": "701b3f25-f795-4553-c255-403aba3d8dea"
      },
      "execution_count": 20,
      "outputs": [
        {
          "output_type": "stream",
          "name": "stdout",
          "text": [
            "True\n",
            "True\n"
          ]
        }
      ]
    },
    {
      "cell_type": "markdown",
      "source": [
        "## Typecasting"
      ],
      "metadata": {
        "id": "bJnI_KvzDvOg"
      }
    },
    {
      "cell_type": "code",
      "source": [
        "result = 19 / 3 # Implicit Typecasting\n",
        "print(result)\n",
        "print(type(result))\n",
        "result = int(result) # Explicit Typecasting\n",
        "#result = round(result ,2)\n",
        "print(result)\n",
        "print(type(result))"
      ],
      "metadata": {
        "colab": {
          "base_uri": "https://localhost:8080/"
        },
        "id": "hdjc38tWDuDG",
        "outputId": "29019f07-b092-43ef-bbc2-8d46e0e5bf35"
      },
      "execution_count": 21,
      "outputs": [
        {
          "output_type": "stream",
          "name": "stdout",
          "text": [
            "6.333333333333333\n",
            "<class 'float'>\n",
            "6\n",
            "<class 'int'>\n"
          ]
        }
      ]
    },
    {
      "cell_type": "markdown",
      "source": [
        "## Conditional Statements\n",
        "- if\n",
        "- if else\n",
        "- if else ladder (elif)\n",
        "- nested if else"
      ],
      "metadata": {
        "id": "c0iu1H-nD0Yz"
      }
    },
    {
      "cell_type": "code",
      "source": [
        "num = int(input(\"Enter a number: \"))\n",
        "if num % 2 == 0:\n",
        "  print(\"Number is Even\")\n",
        "else:\n",
        "  print(\"Number is Odd\")"
      ],
      "metadata": {
        "colab": {
          "base_uri": "https://localhost:8080/"
        },
        "id": "M22mjswSDzeH",
        "outputId": "02f3cbd2-c739-4a67-e1a8-0739272d6ac7"
      },
      "execution_count": 22,
      "outputs": [
        {
          "output_type": "stream",
          "name": "stdout",
          "text": [
            "Enter a number: 44\n",
            "Number is Even\n"
          ]
        }
      ]
    },
    {
      "cell_type": "code",
      "source": [
        "marks = int(input())\n",
        "if marks > 90 :\n",
        "  grade = \"A\"\n",
        "elif marks > 75 :\n",
        "  grade = \"B\"\n",
        "elif marks > 65 :\n",
        "  grade = \"C\"\n",
        "elif marks > 50 :\n",
        "  grade = \"D\"\n",
        "else :\n",
        "  grade = \"E\"\n",
        "\n",
        "print(\"The grade for the student is \",grade)"
      ],
      "metadata": {
        "colab": {
          "base_uri": "https://localhost:8080/"
        },
        "id": "UoFltkJBPOCD",
        "outputId": "16203733-4880-42b0-e120-1d0b51f38511"
      },
      "execution_count": 23,
      "outputs": [
        {
          "output_type": "stream",
          "name": "stdout",
          "text": [
            "65\n",
            "The grade for the student is  D\n"
          ]
        }
      ]
    },
    {
      "cell_type": "code",
      "source": [
        "x = 30\n",
        "if x > 40 :\n",
        "  if x < 50 :\n",
        "    print(\"its nested if example\")\n",
        "else :\n",
        "  print(\"Not x less than 40\")"
      ],
      "metadata": {
        "colab": {
          "base_uri": "https://localhost:8080/"
        },
        "id": "PeDGC2jsQ5hx",
        "outputId": "43472ee3-cb5a-4f8f-f058-89147c6c9588"
      },
      "execution_count": 24,
      "outputs": [
        {
          "output_type": "stream",
          "name": "stdout",
          "text": [
            "Not x less than 40\n"
          ]
        }
      ]
    },
    {
      "cell_type": "markdown",
      "source": [
        "## Loops\n",
        "- while\n",
        "- for\n",
        "- nested for"
      ],
      "metadata": {
        "id": "KV3OEGtVESLE"
      }
    },
    {
      "cell_type": "code",
      "source": [
        "num = int(input(\"Enter a number: \"))\n",
        "current = 1\n",
        "while current <= 10:\n",
        "  print(\"{0} X {1} = {2}\".format(num, current, (num * current)))\n",
        "  current = current + 1"
      ],
      "metadata": {
        "colab": {
          "base_uri": "https://localhost:8080/"
        },
        "id": "xSLvyzpYECSO",
        "outputId": "2372e0a9-374e-47d0-cb5b-74401c2d9a9d"
      },
      "execution_count": 25,
      "outputs": [
        {
          "output_type": "stream",
          "name": "stdout",
          "text": [
            "Enter a number: 8\n",
            "8 X 1 = 8\n",
            "8 X 2 = 16\n",
            "8 X 3 = 24\n",
            "8 X 4 = 32\n",
            "8 X 5 = 40\n",
            "8 X 6 = 48\n",
            "8 X 7 = 56\n",
            "8 X 8 = 64\n",
            "8 X 9 = 72\n",
            "8 X 10 = 80\n"
          ]
        }
      ]
    },
    {
      "cell_type": "code",
      "source": [
        "# for <temp_var> in <sequence> :\n",
        "#range(start,end, step)\n",
        "num = int(input(\"Enter a number: \"))\n",
        "for current in range(1, 11):\n",
        "  print(\"{0} X {1} = {2}\".format(num, current, (num * current)))"
      ],
      "metadata": {
        "id": "jsWXQD39EVG_",
        "colab": {
          "base_uri": "https://localhost:8080/"
        },
        "outputId": "37d4fae2-b53a-4b6b-871c-ff6bf6a9c753"
      },
      "execution_count": 26,
      "outputs": [
        {
          "output_type": "stream",
          "name": "stdout",
          "text": [
            "Enter a number: 4\n",
            "4 X 1 = 4\n",
            "4 X 2 = 8\n",
            "4 X 3 = 12\n",
            "4 X 4 = 16\n",
            "4 X 5 = 20\n",
            "4 X 6 = 24\n",
            "4 X 7 = 28\n",
            "4 X 8 = 32\n",
            "4 X 9 = 36\n",
            "4 X 10 = 40\n"
          ]
        }
      ]
    },
    {
      "cell_type": "code",
      "source": [
        "number = int(input(\"Enter a number: \"))\n",
        "for current in range(1, number+1):\n",
        "  for num in range(1,11):\n",
        "    print(\"{0} X {1} = {2}\".format(current , num , (num * current)))"
      ],
      "metadata": {
        "colab": {
          "base_uri": "https://localhost:8080/"
        },
        "id": "QwS-ZTH-UVjw",
        "outputId": "07580e3f-331e-43fa-de33-21e6249c58e7"
      },
      "execution_count": 27,
      "outputs": [
        {
          "output_type": "stream",
          "name": "stdout",
          "text": [
            "Enter a number: 4\n",
            "1 X 1 = 1\n",
            "1 X 2 = 2\n",
            "1 X 3 = 3\n",
            "1 X 4 = 4\n",
            "1 X 5 = 5\n",
            "1 X 6 = 6\n",
            "1 X 7 = 7\n",
            "1 X 8 = 8\n",
            "1 X 9 = 9\n",
            "1 X 10 = 10\n",
            "2 X 1 = 2\n",
            "2 X 2 = 4\n",
            "2 X 3 = 6\n",
            "2 X 4 = 8\n",
            "2 X 5 = 10\n",
            "2 X 6 = 12\n",
            "2 X 7 = 14\n",
            "2 X 8 = 16\n",
            "2 X 9 = 18\n",
            "2 X 10 = 20\n",
            "3 X 1 = 3\n",
            "3 X 2 = 6\n",
            "3 X 3 = 9\n",
            "3 X 4 = 12\n",
            "3 X 5 = 15\n",
            "3 X 6 = 18\n",
            "3 X 7 = 21\n",
            "3 X 8 = 24\n",
            "3 X 9 = 27\n",
            "3 X 10 = 30\n",
            "4 X 1 = 4\n",
            "4 X 2 = 8\n",
            "4 X 3 = 12\n",
            "4 X 4 = 16\n",
            "4 X 5 = 20\n",
            "4 X 6 = 24\n",
            "4 X 7 = 28\n",
            "4 X 8 = 32\n",
            "4 X 9 = 36\n",
            "4 X 10 = 40\n"
          ]
        }
      ]
    },
    {
      "cell_type": "markdown",
      "source": [
        "## Loop control statements"
      ],
      "metadata": {
        "id": "DNPuLOwxEb7m"
      }
    },
    {
      "cell_type": "code",
      "source": [
        "# Normal Execution\n",
        "for x in range(1, 10):\n",
        "  print(x)"
      ],
      "metadata": {
        "colab": {
          "base_uri": "https://localhost:8080/"
        },
        "id": "HfvBXp5eEiSO",
        "outputId": "3f257bd3-0b56-441d-ba97-fffbdbbf042a"
      },
      "execution_count": 28,
      "outputs": [
        {
          "output_type": "stream",
          "name": "stdout",
          "text": [
            "1\n",
            "2\n",
            "3\n",
            "4\n",
            "5\n",
            "6\n",
            "7\n",
            "8\n",
            "9\n"
          ]
        }
      ]
    },
    {
      "cell_type": "code",
      "source": [
        "# Using Break\n",
        "for x in range(1, 10):\n",
        "  if x == 5:\n",
        "    break\n",
        "  print(x)"
      ],
      "metadata": {
        "colab": {
          "base_uri": "https://localhost:8080/"
        },
        "id": "LD8Kwh83ElDf",
        "outputId": "fb6dce46-6390-438a-a979-4c765af3417b"
      },
      "execution_count": 29,
      "outputs": [
        {
          "output_type": "stream",
          "name": "stdout",
          "text": [
            "1\n",
            "2\n",
            "3\n",
            "4\n"
          ]
        }
      ]
    },
    {
      "cell_type": "code",
      "source": [
        "# Using Continue\n",
        "for x in range(1, 10):\n",
        "  if x == 5:\n",
        "    continue\n",
        "  print(x)"
      ],
      "metadata": {
        "colab": {
          "base_uri": "https://localhost:8080/"
        },
        "id": "UHj1KzdhExex",
        "outputId": "1ba76e7a-7d15-44f0-f137-f99ed199de84"
      },
      "execution_count": 30,
      "outputs": [
        {
          "output_type": "stream",
          "name": "stdout",
          "text": [
            "1\n",
            "2\n",
            "3\n",
            "4\n",
            "6\n",
            "7\n",
            "8\n",
            "9\n"
          ]
        }
      ]
    },
    {
      "cell_type": "markdown",
      "source": [
        "## Lists"
      ],
      "metadata": {
        "id": "oZ_rznDEFM1X"
      }
    },
    {
      "cell_type": "code",
      "source": [
        "# Initializing\n",
        "marks = [50, 99, 78, 88, 90] # Marks of a student with index a roll numbers\n",
        "print(\"Marks of student with roll number 0 is:\", marks[0])"
      ],
      "metadata": {
        "colab": {
          "base_uri": "https://localhost:8080/"
        },
        "id": "bp5DJ7xtE8gv",
        "outputId": "c48229b8-fa2a-472b-ca67-0f113f338914"
      },
      "execution_count": null,
      "outputs": [
        {
          "output_type": "stream",
          "name": "stdout",
          "text": [
            "Marks of student with roll number 0 is: 50\n"
          ]
        }
      ]
    },
    {
      "cell_type": "code",
      "source": [
        "print(\"Marks before appending\", marks)\n",
        "marks.append(88)\n",
        "print(\"Marks after appending\", marks)"
      ],
      "metadata": {
        "colab": {
          "base_uri": "https://localhost:8080/"
        },
        "id": "kyE-Y4JkFPj1",
        "outputId": "09fee178-82ba-47a6-bcb9-f41c158a6b91"
      },
      "execution_count": null,
      "outputs": [
        {
          "output_type": "stream",
          "name": "stdout",
          "text": [
            "Marks before appending [50, 99, 78, 88, 90]\n",
            "Marks after appending [50, 99, 78, 88, 90, 88]\n"
          ]
        }
      ]
    },
    {
      "cell_type": "code",
      "source": [
        "print(\"Marks before deleting last element\", marks)\n",
        "marks.pop()\n",
        "print(\"Marks after deleting last element\", marks)"
      ],
      "metadata": {
        "colab": {
          "base_uri": "https://localhost:8080/"
        },
        "id": "YPHk5Hf6FSfM",
        "outputId": "3fefbc05-87c9-4355-fdd5-2eb5fdcf204b"
      },
      "execution_count": null,
      "outputs": [
        {
          "output_type": "stream",
          "name": "stdout",
          "text": [
            "Marks before deleting last element [50, 99, 78, 88, 90, 88]\n",
            "Marks after deleting last element [50, 99, 78, 88, 90]\n"
          ]
        }
      ]
    },
    {
      "cell_type": "code",
      "source": [
        "print(\"Marks before deleting first element\", marks)\n",
        "marks.pop(0)\n",
        "print(\"Marks after deleting first element\", marks)"
      ],
      "metadata": {
        "colab": {
          "base_uri": "https://localhost:8080/"
        },
        "id": "RIikkDOeFUze",
        "outputId": "171fa850-e3d2-45d9-8c64-4215a28bdcd2"
      },
      "execution_count": null,
      "outputs": [
        {
          "output_type": "stream",
          "name": "stdout",
          "text": [
            "Marks before deleting first element [50, 99, 78, 88, 90]\n",
            "Marks after deleting first element [99, 78, 88, 90]\n"
          ]
        }
      ]
    },
    {
      "cell_type": "code",
      "source": [
        "if 99 in marks: print(\"A Student Got 99 Marks\")\n",
        "else: print(\"No Student Got 99 Marks\")"
      ],
      "metadata": {
        "colab": {
          "base_uri": "https://localhost:8080/"
        },
        "id": "ERYCkJBbFXdj",
        "outputId": "4122919b-3496-4319-f17a-756921bebcec"
      },
      "execution_count": null,
      "outputs": [
        {
          "output_type": "stream",
          "name": "stdout",
          "text": [
            "A Student Got 99 Marks\n"
          ]
        }
      ]
    },
    {
      "cell_type": "code",
      "source": [
        "index = marks.index(99)\n",
        "print(index)"
      ],
      "metadata": {
        "colab": {
          "base_uri": "https://localhost:8080/"
        },
        "id": "jb9vobi1FZlz",
        "outputId": "a74be861-c2df-4729-cfd3-bdf5205b30e1"
      },
      "execution_count": null,
      "outputs": [
        {
          "output_type": "stream",
          "name": "stdout",
          "text": [
            "0\n"
          ]
        }
      ]
    },
    {
      "cell_type": "code",
      "source": [
        "print(\"Before swapping\", marks)\n",
        "marks[0], marks[1] = marks[1], marks[0]\n",
        "print(\"After swapping\", marks)"
      ],
      "metadata": {
        "colab": {
          "base_uri": "https://localhost:8080/"
        },
        "id": "usfGZ04qFcEb",
        "outputId": "b48865c6-dad8-4d23-a788-c672c17aa9a9"
      },
      "execution_count": null,
      "outputs": [
        {
          "output_type": "stream",
          "name": "stdout",
          "text": [
            "Before swapping [99, 78, 88, 90]\n",
            "After swapping [78, 99, 88, 90]\n"
          ]
        }
      ]
    },
    {
      "cell_type": "code",
      "source": [
        "print(\"First 2 elements\", marks[:2])\n",
        "print(\"Last 2 elements\", marks[-2:])"
      ],
      "metadata": {
        "colab": {
          "base_uri": "https://localhost:8080/"
        },
        "id": "71G0Ob8nFePm",
        "outputId": "281fb8ca-2d70-49a2-d241-5015a8f64ca4"
      },
      "execution_count": null,
      "outputs": [
        {
          "output_type": "stream",
          "name": "stdout",
          "text": [
            "First 2 elements [78, 99]\n",
            "Last 2 elements [88, 90]\n"
          ]
        }
      ]
    },
    {
      "cell_type": "markdown",
      "source": [
        "## Tuple"
      ],
      "metadata": {
        "id": "cv185SxQFmp7"
      }
    },
    {
      "cell_type": "code",
      "source": [
        "# Initialize\n",
        "months = \"January\", \"February\", \"March\", \"April\", \"May\", \"June\", \"July\", \"August\", \"September\", \"October\", \"Novemebr\", \"December\""
      ],
      "metadata": {
        "id": "y8ShnV2PFg15"
      },
      "execution_count": null,
      "outputs": []
    },
    {
      "cell_type": "code",
      "source": [
        "print(months)\n",
        "print(\"First Month: \", months[0])"
      ],
      "metadata": {
        "colab": {
          "base_uri": "https://localhost:8080/"
        },
        "id": "Pm1bqzfjFpaL",
        "outputId": "592d7f57-7a08-4d5e-ea8e-33f5f0a17185"
      },
      "execution_count": null,
      "outputs": [
        {
          "output_type": "stream",
          "name": "stdout",
          "text": [
            "('January', 'February', 'March', 'April', 'May', 'June', 'July', 'August', 'September', 'October', 'Novemebr', 'December')\n",
            "First Month:  January\n"
          ]
        }
      ]
    },
    {
      "cell_type": "code",
      "source": [
        "if \"January\" in months: print(\"January is in Months\")\n",
        "else: print(\"January is not in Months\")"
      ],
      "metadata": {
        "colab": {
          "base_uri": "https://localhost:8080/"
        },
        "id": "cDEYIwf1FtRd",
        "outputId": "b491322c-8180-49ad-e7d1-17f0ba80af2a"
      },
      "execution_count": null,
      "outputs": [
        {
          "output_type": "stream",
          "name": "stdout",
          "text": [
            "January is in Months\n"
          ]
        }
      ]
    },
    {
      "cell_type": "code",
      "source": [
        "print(\"First 6 Months\", months[:6])"
      ],
      "metadata": {
        "colab": {
          "base_uri": "https://localhost:8080/"
        },
        "id": "brvEhMSSFyWS",
        "outputId": "14b093bf-630f-4a9e-ff33-5b11c6151858"
      },
      "execution_count": null,
      "outputs": [
        {
          "output_type": "stream",
          "name": "stdout",
          "text": [
            "First 6 Months ('January', 'February', 'March', 'April', 'May', 'June')\n"
          ]
        }
      ]
    },
    {
      "cell_type": "markdown",
      "source": [
        "## Sets"
      ],
      "metadata": {
        "id": "9AWGLcbhF8Mw"
      }
    },
    {
      "cell_type": "code",
      "source": [
        "users = set([\"admin\", \"john\"])"
      ],
      "metadata": {
        "id": "FQk7klBSF16c"
      },
      "execution_count": null,
      "outputs": []
    },
    {
      "cell_type": "code",
      "source": [
        "name = input(\"Enter a username: \")\n",
        "if name in users:\n",
        "  print(\"username is alrady taken\")\n",
        "else:\n",
        "  users.add(name)\n",
        "  print(\"user registered\")"
      ],
      "metadata": {
        "colab": {
          "base_uri": "https://localhost:8080/"
        },
        "id": "6CfNobBlF-Rq",
        "outputId": "3cd8ebd7-c973-443b-aa35-1b151b856c39"
      },
      "execution_count": null,
      "outputs": [
        {
          "output_type": "stream",
          "name": "stdout",
          "text": [
            "Enter a username: yo\n",
            "user registered\n"
          ]
        }
      ]
    },
    {
      "cell_type": "code",
      "source": [
        "users.remove('admin')\n",
        "print(\"admin removed from registered users\")"
      ],
      "metadata": {
        "colab": {
          "base_uri": "https://localhost:8080/"
        },
        "id": "K-K62G0tGEPP",
        "outputId": "8da57e6f-51af-426e-da7d-36d017ec3d52"
      },
      "execution_count": null,
      "outputs": [
        {
          "output_type": "stream",
          "name": "stdout",
          "text": [
            "admin removed from registered users\n"
          ]
        }
      ]
    },
    {
      "cell_type": "code",
      "source": [
        "print('admin' in users)\n",
        "print('john' in users)"
      ],
      "metadata": {
        "colab": {
          "base_uri": "https://localhost:8080/"
        },
        "id": "ACoaU6QiGQYV",
        "outputId": "ebb86d07-d120-410e-b2d4-9f00af1175ca"
      },
      "execution_count": null,
      "outputs": [
        {
          "output_type": "stream",
          "name": "stdout",
          "text": [
            "False\n",
            "True\n"
          ]
        }
      ]
    },
    {
      "cell_type": "markdown",
      "source": [
        "## Dictionaries"
      ],
      "metadata": {
        "id": "acN0wRImGVIv"
      }
    },
    {
      "cell_type": "code",
      "source": [
        "students = dict([[100, 'Jane'], [102, 'Ron']])"
      ],
      "metadata": {
        "id": "VVZJ_OTGGUbm"
      },
      "execution_count": null,
      "outputs": []
    },
    {
      "cell_type": "code",
      "source": [
        "roll_no = int(input(\"Enter student roll number: \"))\n",
        "name = input(\"Enter student name: \")\n",
        "students[roll_no] = name\n",
        "print(students)"
      ],
      "metadata": {
        "colab": {
          "base_uri": "https://localhost:8080/"
        },
        "id": "saf9THcqGbun",
        "outputId": "1ef1152b-1595-462b-e053-5ba27fc0977d"
      },
      "execution_count": null,
      "outputs": [
        {
          "output_type": "stream",
          "name": "stdout",
          "text": [
            "Enter student roll number: 25\n",
            "Enter student name: rev\n",
            "{100: 'Jane', 102: 'Ron', 25: 'rev'}\n"
          ]
        }
      ]
    },
    {
      "cell_type": "code",
      "source": [
        "print(\"Before Deleting Roll No: 101\")\n",
        "print(students)\n",
        "del students[101]\n",
        "print(\"After Deleting Roll No: 101\")\n",
        "print(students)"
      ],
      "metadata": {
        "colab": {
          "base_uri": "https://localhost:8080/",
          "height": 279
        },
        "id": "193z8WA_GeMz",
        "outputId": "58291df5-27a7-4a28-9067-fbd4b2c0c67e"
      },
      "execution_count": null,
      "outputs": [
        {
          "output_type": "stream",
          "name": "stdout",
          "text": [
            "Before Deleting Roll No: 101\n",
            "{100: 'Jane', 102: 'Ron', 25: 'rev'}\n"
          ]
        },
        {
          "output_type": "error",
          "ename": "KeyError",
          "evalue": "101",
          "traceback": [
            "\u001b[0;31m---------------------------------------------------------------------------\u001b[0m",
            "\u001b[0;31mKeyError\u001b[0m                                  Traceback (most recent call last)",
            "\u001b[0;32m<ipython-input-41-9fa2c57a64d2>\u001b[0m in \u001b[0;36m<cell line: 3>\u001b[0;34m()\u001b[0m\n\u001b[1;32m      1\u001b[0m \u001b[0mprint\u001b[0m\u001b[0;34m(\u001b[0m\u001b[0;34m\"Before Deleting Roll No: 101\"\u001b[0m\u001b[0;34m)\u001b[0m\u001b[0;34m\u001b[0m\u001b[0;34m\u001b[0m\u001b[0m\n\u001b[1;32m      2\u001b[0m \u001b[0mprint\u001b[0m\u001b[0;34m(\u001b[0m\u001b[0mstudents\u001b[0m\u001b[0;34m)\u001b[0m\u001b[0;34m\u001b[0m\u001b[0;34m\u001b[0m\u001b[0m\n\u001b[0;32m----> 3\u001b[0;31m \u001b[0;32mdel\u001b[0m \u001b[0mstudents\u001b[0m\u001b[0;34m[\u001b[0m\u001b[0;36m101\u001b[0m\u001b[0;34m]\u001b[0m\u001b[0;34m\u001b[0m\u001b[0;34m\u001b[0m\u001b[0m\n\u001b[0m\u001b[1;32m      4\u001b[0m \u001b[0mprint\u001b[0m\u001b[0;34m(\u001b[0m\u001b[0;34m\"After Deleting Roll No: 101\"\u001b[0m\u001b[0;34m)\u001b[0m\u001b[0;34m\u001b[0m\u001b[0;34m\u001b[0m\u001b[0m\n\u001b[1;32m      5\u001b[0m \u001b[0mprint\u001b[0m\u001b[0;34m(\u001b[0m\u001b[0mstudents\u001b[0m\u001b[0;34m)\u001b[0m\u001b[0;34m\u001b[0m\u001b[0;34m\u001b[0m\u001b[0m\n",
            "\u001b[0;31mKeyError\u001b[0m: 101"
          ]
        }
      ]
    },
    {
      "cell_type": "code",
      "source": [
        "if 101 in students: print(\"Student with roll no 101 is in the list\")\n",
        "else: print(\"Student with roll no 101 is not in the list\")"
      ],
      "metadata": {
        "colab": {
          "base_uri": "https://localhost:8080/"
        },
        "id": "i9lsji0aGlZE",
        "outputId": "67c8676c-b3cd-45b2-b0f7-1d391ecee844"
      },
      "execution_count": null,
      "outputs": [
        {
          "output_type": "stream",
          "name": "stdout",
          "text": [
            "Student with roll no 101 is not in the list\n"
          ]
        }
      ]
    },
    {
      "cell_type": "markdown",
      "source": [
        "## Comprehensions"
      ],
      "metadata": {
        "id": "_Pux8Lc5G8ZK"
      }
    },
    {
      "cell_type": "code",
      "source": [
        "squares = {x: x * x for x in range(1, 11)}"
      ],
      "metadata": {
        "id": "Zfg-BymXGvJv"
      },
      "execution_count": null,
      "outputs": []
    },
    {
      "cell_type": "code",
      "source": [
        "print(squares)"
      ],
      "metadata": {
        "colab": {
          "base_uri": "https://localhost:8080/"
        },
        "id": "kDr4jTVwHAJJ",
        "outputId": "e5cc688d-fec8-4525-ca9b-5bbe6b720430"
      },
      "execution_count": null,
      "outputs": [
        {
          "output_type": "stream",
          "name": "stdout",
          "text": [
            "{1: 1, 2: 4, 3: 9, 4: 16, 5: 25, 6: 36, 7: 49, 8: 64, 9: 81, 10: 100}\n"
          ]
        }
      ]
    },
    {
      "cell_type": "code",
      "source": [
        "keys = [x for x in squares.keys()]\n",
        "values = [x for x in squares.values()]"
      ],
      "metadata": {
        "id": "uCXg0GkGHDWk"
      },
      "execution_count": null,
      "outputs": []
    },
    {
      "cell_type": "code",
      "source": [
        "print(keys)\n",
        "print(values)"
      ],
      "metadata": {
        "colab": {
          "base_uri": "https://localhost:8080/"
        },
        "id": "_Y_uivU3HF9r",
        "outputId": "b33bbe00-8bbd-4ee5-d690-04ba3f8627f6"
      },
      "execution_count": null,
      "outputs": [
        {
          "output_type": "stream",
          "name": "stdout",
          "text": [
            "[1, 2, 3, 4, 5, 6, 7, 8, 9, 10]\n",
            "[1, 4, 9, 16, 25, 36, 49, 64, 81, 100]\n"
          ]
        }
      ]
    },
    {
      "cell_type": "markdown",
      "source": [
        "## Functions\n",
        "\n",
        "Perform the following tasks\n",
        "- Create a dictionary to hold student roll numbers nad name as keys and values\n",
        "- Create a function to insert a unique roll no and name of students in the dictionary\n",
        "- Create a function to print all student in the dictionary"
      ],
      "metadata": {
        "id": "haCxzalWHRNf"
      }
    },
    {
      "cell_type": "code",
      "source": [
        "students = {\n",
        "100: 'Jane',\n",
        "102: 'Sam'\n",
        "}\n",
        "def get_student_info():\n",
        "  roll_no = int(input(\"Enter student roll number: \"))\n",
        "  if roll_no in students:\n",
        "    print('Student with Roll No {0} Already Exists'.format(roll_no))\n",
        "  else:\n",
        "    name = input(\"Enter student name: \")\n",
        "    students[roll_no] = name\n",
        "\n",
        "def print_student_info():\n",
        "  for roll_no in students.keys():\n",
        "    print(\"Roll No: {0}, Name: {1}\".format(roll_no, students[roll_no]))"
      ],
      "metadata": {
        "id": "0jJDs7zAHITO"
      },
      "execution_count": null,
      "outputs": []
    },
    {
      "cell_type": "code",
      "source": [
        "get_student_info()\n",
        "print_student_info()"
      ],
      "metadata": {
        "colab": {
          "base_uri": "https://localhost:8080/"
        },
        "id": "2Igpp25sHjSK",
        "outputId": "6cc007ce-d581-4fb7-e0f0-562a0a16ccf7"
      },
      "execution_count": null,
      "outputs": [
        {
          "output_type": "stream",
          "name": "stdout",
          "text": [
            "Enter student roll number: 12\n",
            "Enter student name: raven\n",
            "Roll No: 100, Name: Jane\n",
            "Roll No: 102, Name: Sam\n",
            "Roll No: 12, Name: raven\n"
          ]
        }
      ]
    },
    {
      "cell_type": "code",
      "source": [
        "# Lambda Fuctions\n",
        "def transfrom(data, opeations):\n",
        "  for opeation in opeations:\n",
        "    for index in range(0, len(data)):\n",
        "      data[index] = opeation(data[index])\n",
        "\n",
        "data = [1, 2, 3, 4]\n",
        "increment_by_one = lambda x: x + 1\n",
        "double = lambda x: x * 2\n",
        "operations = [increment_by_one, double]\n",
        "print(data)\n",
        "transfrom(data, operations)\n",
        "print(data)"
      ],
      "metadata": {
        "colab": {
          "base_uri": "https://localhost:8080/"
        },
        "id": "TxKcwssdHoiK",
        "outputId": "0efbedbf-26eb-4591-8aaa-80854d3cf5d2"
      },
      "execution_count": null,
      "outputs": [
        {
          "output_type": "stream",
          "name": "stdout",
          "text": [
            "[1, 2, 3, 4]\n",
            "[4, 6, 8, 10]\n"
          ]
        }
      ]
    },
    {
      "cell_type": "code",
      "source": [],
      "metadata": {
        "id": "Rwt9SHCJH50j"
      },
      "execution_count": null,
      "outputs": []
    }
  ]
}