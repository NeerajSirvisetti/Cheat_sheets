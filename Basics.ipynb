{
  "nbformat": 4,
  "nbformat_minor": 0,
  "metadata": {
    "colab": {
      "provenance": [],
      "authorship_tag": "ABX9TyMsKZlk6ffdGfTpk4Z+B9Pd",
      "include_colab_link": true
    },
    "kernelspec": {
      "name": "python3",
      "display_name": "Python 3"
    },
    "language_info": {
      "name": "python"
    }
  },
  "cells": [
    {
      "cell_type": "markdown",
      "metadata": {
        "id": "view-in-github",
        "colab_type": "text"
      },
      "source": [
        "<a href=\"https://colab.research.google.com/github/NeerajSirvisetti/Cheat_sheets/blob/main/Basics.ipynb\" target=\"_parent\"><img src=\"https://colab.research.google.com/assets/colab-badge.svg\" alt=\"Open In Colab\"/></a>"
      ]
    },
    {
      "cell_type": "markdown",
      "source": [
        "# Basics\n",
        "\n",
        "## printing and taking inputs"
      ],
      "metadata": {
        "id": "ENqOdP7sILOO"
      }
    },
    {
      "cell_type": "code",
      "execution_count": null,
      "metadata": {
        "colab": {
          "base_uri": "https://localhost:8080/"
        },
        "id": "xvVu6IA_CCPB",
        "outputId": "a17ce680-88f6-4220-b471-d371da3f3ecb"
      },
      "outputs": [
        {
          "output_type": "stream",
          "name": "stdout",
          "text": [
            "Hello Python !!\n"
          ]
        }
      ],
      "source": [
        "print(\"Hello Python !!\")"
      ]
    },
    {
      "cell_type": "code",
      "source": [
        "name = input('Enter Your Name: ')\n",
        "print(\"My name is :\",name)"
      ],
      "metadata": {
        "id": "88wKejEQCZKN",
        "colab": {
          "base_uri": "https://localhost:8080/"
        },
        "outputId": "ffe4bfee-5dde-4ff2-d3b0-5524ce33979e"
      },
      "execution_count": null,
      "outputs": [
        {
          "output_type": "stream",
          "name": "stdout",
          "text": [
            "Enter Your Name: nanu\n",
            "My name is : nanu\n"
          ]
        }
      ]
    },
    {
      "cell_type": "code",
      "source": [
        "# python is case sensitive\n",
        "a = 5\n",
        "A = 10\n",
        "# both a and A are different\n",
        "print(\"a: \", a, \"and A: \", A)"
      ],
      "metadata": {
        "colab": {
          "base_uri": "https://localhost:8080/"
        },
        "id": "jsfGMxGdCXiO",
        "outputId": "88111cd2-597e-4491-a981-14506e8ce26b"
      },
      "execution_count": null,
      "outputs": [
        {
          "output_type": "stream",
          "name": "stdout",
          "text": [
            "a:  5 and A:  10\n"
          ]
        }
      ]
    },
    {
      "cell_type": "markdown",
      "source": [
        "## Data type"
      ],
      "metadata": {
        "id": "hsPxt2azCtIT"
      }
    },
    {
      "cell_type": "code",
      "source": [
        "marks = 1\n",
        "name = \"John\"\n",
        "salary = 50000.0\n",
        "cordinates = 4 + 2j\n",
        "isAlive = False\n",
        "education = None"
      ],
      "metadata": {
        "id": "0-hZDKu4CjdC"
      },
      "execution_count": null,
      "outputs": []
    },
    {
      "cell_type": "code",
      "source": [
        "print(type(marks))\n",
        "print(type(name))\n",
        "print(type(salary))\n",
        "print(type(cordinates))\n",
        "print(type(isAlive))\n",
        "print(type(education))"
      ],
      "metadata": {
        "colab": {
          "base_uri": "https://localhost:8080/"
        },
        "id": "09etXoO_Cz-k",
        "outputId": "2b0c5207-ecaf-4ef2-f47c-4d44b9a5bf43"
      },
      "execution_count": null,
      "outputs": [
        {
          "output_type": "stream",
          "name": "stdout",
          "text": [
            "<class 'int'>\n",
            "<class 'str'>\n",
            "<class 'float'>\n",
            "<class 'complex'>\n",
            "<class 'bool'>\n",
            "<class 'NoneType'>\n"
          ]
        }
      ]
    },
    {
      "cell_type": "code",
      "source": [
        "k = int(input())\n",
        "print(type(k))"
      ],
      "metadata": {
        "colab": {
          "base_uri": "https://localhost:8080/",
          "height": 211
        },
        "id": "X4Lkj86FC2Xq",
        "outputId": "94bdbcd8-3a8d-43ad-9bcc-6b75a2de51cb"
      },
      "execution_count": null,
      "outputs": [
        {
          "name": "stdout",
          "output_type": "stream",
          "text": [
            "str\n"
          ]
        },
        {
          "output_type": "error",
          "ename": "ValueError",
          "evalue": "invalid literal for int() with base 10: 'str'",
          "traceback": [
            "\u001b[0;31m---------------------------------------------------------------------------\u001b[0m",
            "\u001b[0;31mValueError\u001b[0m                                Traceback (most recent call last)",
            "\u001b[0;32m<ipython-input-17-fad7654a565e>\u001b[0m in \u001b[0;36m<cell line: 1>\u001b[0;34m()\u001b[0m\n\u001b[0;32m----> 1\u001b[0;31m \u001b[0mk\u001b[0m \u001b[0;34m=\u001b[0m \u001b[0mint\u001b[0m\u001b[0;34m(\u001b[0m\u001b[0minput\u001b[0m\u001b[0;34m(\u001b[0m\u001b[0;34m)\u001b[0m\u001b[0;34m)\u001b[0m\u001b[0;34m\u001b[0m\u001b[0;34m\u001b[0m\u001b[0m\n\u001b[0m\u001b[1;32m      2\u001b[0m \u001b[0mprint\u001b[0m\u001b[0;34m(\u001b[0m\u001b[0mtype\u001b[0m\u001b[0;34m(\u001b[0m\u001b[0mk\u001b[0m\u001b[0;34m)\u001b[0m\u001b[0;34m)\u001b[0m\u001b[0;34m\u001b[0m\u001b[0;34m\u001b[0m\u001b[0m\n",
            "\u001b[0;31mValueError\u001b[0m: invalid literal for int() with base 10: 'str'"
          ]
        }
      ]
    },
    {
      "cell_type": "markdown",
      "source": [
        "## Identifiers"
      ],
      "metadata": {
        "id": "cXkItRTBDAhO"
      }
    },
    {
      "cell_type": "code",
      "source": [
        "n1ame = \"John\"\n",
        "#int = \"hi hello\"\n",
        "#print(int)\n",
        "\n",
        "k = 45.0\n",
        "\n",
        "print(k,type(k))\n",
        "print(int(k))"
      ],
      "metadata": {
        "id": "thc-n5pRC3Oi",
        "colab": {
          "base_uri": "https://localhost:8080/",
          "height": 246
        },
        "outputId": "4b3c75c8-d086-4abf-e8a4-02f279505040"
      },
      "execution_count": null,
      "outputs": [
        {
          "output_type": "stream",
          "name": "stdout",
          "text": [
            "hi hello\n",
            "45.0 <class 'float'>\n"
          ]
        },
        {
          "output_type": "error",
          "ename": "TypeError",
          "evalue": "'str' object is not callable",
          "traceback": [
            "\u001b[0;31m---------------------------------------------------------------------------\u001b[0m",
            "\u001b[0;31mTypeError\u001b[0m                                 Traceback (most recent call last)",
            "\u001b[0;32m<ipython-input-27-efca6e10510f>\u001b[0m in \u001b[0;36m<cell line: 7>\u001b[0;34m()\u001b[0m\n\u001b[1;32m      5\u001b[0m \u001b[0mk\u001b[0m \u001b[0;34m=\u001b[0m \u001b[0;36m45.0\u001b[0m\u001b[0;34m\u001b[0m\u001b[0;34m\u001b[0m\u001b[0m\n\u001b[1;32m      6\u001b[0m \u001b[0mprint\u001b[0m\u001b[0;34m(\u001b[0m\u001b[0mk\u001b[0m\u001b[0;34m,\u001b[0m\u001b[0mtype\u001b[0m\u001b[0;34m(\u001b[0m\u001b[0mk\u001b[0m\u001b[0;34m)\u001b[0m\u001b[0;34m)\u001b[0m\u001b[0;34m\u001b[0m\u001b[0;34m\u001b[0m\u001b[0m\n\u001b[0;32m----> 7\u001b[0;31m \u001b[0mprint\u001b[0m\u001b[0;34m(\u001b[0m\u001b[0mint\u001b[0m\u001b[0;34m(\u001b[0m\u001b[0mk\u001b[0m\u001b[0;34m)\u001b[0m\u001b[0;34m)\u001b[0m\u001b[0;34m\u001b[0m\u001b[0;34m\u001b[0m\u001b[0m\n\u001b[0m",
            "\u001b[0;31mTypeError\u001b[0m: 'str' object is not callable"
          ]
        }
      ]
    },
    {
      "cell_type": "code",
      "source": [
        "_name = \"John\"\n",
        "surname = \"Doe\""
      ],
      "metadata": {
        "id": "GMAX5o-NDDrj"
      },
      "execution_count": null,
      "outputs": []
    },
    {
      "cell_type": "markdown",
      "source": [
        "## Operators"
      ],
      "metadata": {
        "id": "6zXWkK-sDNwb"
      }
    },
    {
      "cell_type": "code",
      "source": [
        "#Arithmetic\n",
        "x = 6\n",
        "y = 65\n",
        "z = x-y\n",
        "print(z)\n",
        "print(10.4 + 3) # Additionprint(10 - 3) # Subtratcion\n",
        "print(10 / 3) # Division\n",
        "print(10 * 3) # Multiplication\n",
        "print(19.67 // 5) # Floor Division (Cast result to integer)\n",
        "print(10 ** 3) # Exponentiation (x ** y) raise x to y\n",
        "print(10 % 3) # Module (returns remainder after division)"
      ],
      "metadata": {
        "colab": {
          "base_uri": "https://localhost:8080/"
        },
        "id": "7Wq9TAFeDHUj",
        "outputId": "a535de2f-d4cb-4aae-f2de-5b5c224944ae"
      },
      "execution_count": null,
      "outputs": [
        {
          "output_type": "stream",
          "name": "stdout",
          "text": [
            "-59\n",
            "13.4\n",
            "7\n",
            "3.3333333333333335\n",
            "30\n",
            "3.0\n",
            "1000\n",
            "1\n"
          ]
        }
      ]
    },
    {
      "cell_type": "code",
      "source": [
        "#Comparision\n",
        "x, y = 5, 15\n",
        "# x , y = input().split(\" \")\n",
        "print(x == y) # Is 5 Equal to 15\n",
        "print(x != y) # Is 5 Not Equal to 15\n",
        "print(x > y) # Is 5 Greater Than 15\n",
        "print(x >= y) # Is 5 Greater Than or Equal to 15\n",
        "print(x < y) # Is 5 Less Than 15\n",
        "print(x <= y) # Is 5 Less Than or Equal to 15"
      ],
      "metadata": {
        "colab": {
          "base_uri": "https://localhost:8080/"
        },
        "id": "78dRU3NWDROT",
        "outputId": "82fc986f-9d3e-4f66-9839-73b840d446ba"
      },
      "execution_count": null,
      "outputs": [
        {
          "output_type": "stream",
          "name": "stdout",
          "text": [
            "False\n",
            "True\n",
            "False\n",
            "False\n",
            "True\n",
            "True\n"
          ]
        }
      ]
    },
    {
      "cell_type": "code",
      "source": [
        "#Logical\n",
        "x, y = 15, 15\n",
        "print(x == y and x == 5) # and Operator: Are Both Statements True\n",
        "print(x == y or x == 15) # or Operator: Is one of the given Statements True\n",
        "print(not (x == y)) # is the given statement False i.e not True => evaluates to False and vice versa"
      ],
      "metadata": {
        "colab": {
          "base_uri": "https://localhost:8080/"
        },
        "id": "Q_dWrLv2DWR2",
        "outputId": "8d2ed8cc-7025-4a75-df04-47ef887139d8"
      },
      "execution_count": null,
      "outputs": [
        {
          "output_type": "stream",
          "name": "stdout",
          "text": [
            "False\n",
            "True\n",
            "False\n"
          ]
        }
      ]
    },
    {
      "cell_type": "code",
      "source": [
        "#Bitwise\n",
        "x, y = 10, 12\n",
        "print(bin(x)) # Binary Representation of the given number\n",
        "print(bin(y)) # Binary Representation of the given number\n",
        "print(bin(x & y)) # Binary And Operator (Gives 1 if both bits are 1 else 0)\n",
        "print(bin(x | y)) # Binary Or Operator (Gives 1 if at least one bit is 1 else 0)\n",
        "print(bin(y << 2)) # Binary Left Shift Operator (Shifts Bits Left and pads remaining with 0)\n",
        "print(bin(y >> 3)) # Binary Right Operator (Shifts Bits Right and pads remaining with0)\n",
        "print(bin(~x)) # Binary Not Operator (Turns 0 bit to 1 and 1 to 0)"
      ],
      "metadata": {
        "colab": {
          "base_uri": "https://localhost:8080/"
        },
        "id": "G5ti9bsQDaPf",
        "outputId": "0ce2345b-73a0-4b2e-803f-6ca7741a20e0"
      },
      "execution_count": null,
      "outputs": [
        {
          "output_type": "stream",
          "name": "stdout",
          "text": [
            "0b1010\n",
            "0b1100\n",
            "0b1000\n",
            "0b1110\n",
            "0b110000\n",
            "0b1\n",
            "-0b1011\n"
          ]
        }
      ]
    },
    {
      "cell_type": "code",
      "source": [
        "#Identity\n",
        "x, y, z = 1, 2, 2\n",
        "\n",
        "print(id(x),id(y),id(z))\n",
        "print(x is y) # Check if x and y both point to the same thing(memory address)\n",
        "print(y is z) # Check if y and z both point to the same thing"
      ],
      "metadata": {
        "colab": {
          "base_uri": "https://localhost:8080/"
        },
        "id": "3gtbZ1RfDjiM",
        "outputId": "f2332592-ac18-4bf6-cfaf-4506500ecd7e"
      },
      "execution_count": null,
      "outputs": [
        {
          "output_type": "stream",
          "name": "stdout",
          "text": [
            "138423736041712 138423736041744 138423736041744\n",
            "False\n",
            "True\n"
          ]
        }
      ]
    },
    {
      "cell_type": "code",
      "source": [
        "#Membership\n",
        "x, y = 1, 15\n",
        "nums = [1, 2, 3, 4]\n",
        "print(x in nums) # Check if 1 is in the nums list\n",
        "print(y not in nums) # Check if 15 is not in the nums list"
      ],
      "metadata": {
        "colab": {
          "base_uri": "https://localhost:8080/"
        },
        "id": "uB7Gy-b9DqO9",
        "outputId": "08677779-293e-4d29-9a10-08f31daa7178"
      },
      "execution_count": null,
      "outputs": [
        {
          "output_type": "stream",
          "name": "stdout",
          "text": [
            "True\n",
            "True\n"
          ]
        }
      ]
    },
    {
      "cell_type": "markdown",
      "source": [
        "## Typecasting"
      ],
      "metadata": {
        "id": "bJnI_KvzDvOg"
      }
    },
    {
      "cell_type": "code",
      "source": [
        "result = 19 / 3 # Implicit Typecasting\n",
        "print(result)\n",
        "print(type(result))\n",
        "result = int(result)\n",
        "#result = round(result ,2) # Explicit Typecasting\n",
        "print(result)\n",
        "print(type(result))"
      ],
      "metadata": {
        "colab": {
          "base_uri": "https://localhost:8080/"
        },
        "id": "hdjc38tWDuDG",
        "outputId": "4a0eb39f-ebe4-4f21-ebf5-c947db9ebf2c"
      },
      "execution_count": null,
      "outputs": [
        {
          "output_type": "stream",
          "name": "stdout",
          "text": [
            "6.333333333333333\n",
            "<class 'float'>\n",
            "6\n",
            "<class 'int'>\n"
          ]
        }
      ]
    },
    {
      "cell_type": "markdown",
      "source": [
        "## Conditional Statements\n",
        "- if\n",
        "- if else\n",
        "- if else ladder (elif)\n",
        "- nested if else"
      ],
      "metadata": {
        "id": "c0iu1H-nD0Yz"
      }
    },
    {
      "cell_type": "code",
      "source": [
        "num = int(input(\"Enter a number\"))\n",
        "if num % 2 == 0:\n",
        "  print(\"Number is Even\")\n",
        "else:\n",
        "  print(\"Number is Odd\")"
      ],
      "metadata": {
        "colab": {
          "base_uri": "https://localhost:8080/"
        },
        "id": "M22mjswSDzeH",
        "outputId": "ccd008b2-1d95-4ddd-9af8-e09c87dd2ca7"
      },
      "execution_count": null,
      "outputs": [
        {
          "output_type": "stream",
          "name": "stdout",
          "text": [
            "Enter a number44\n",
            "Number is Even\n"
          ]
        }
      ]
    },
    {
      "cell_type": "code",
      "source": [
        "marks = int(input())\n",
        "if marks > 90 :\n",
        "  grade = \"A\"\n",
        "elif marks > 75 :\n",
        "  grade = \"B\"\n",
        "elif marks > 65 :\n",
        "  grade = \"C\"\n",
        "elif marks > 50 :\n",
        "  grade = \"D\"\n",
        "else :\n",
        "  grade = \"E\"\n",
        "\n",
        "print(\"The grade for the student is \",grade)"
      ],
      "metadata": {
        "colab": {
          "base_uri": "https://localhost:8080/"
        },
        "id": "UoFltkJBPOCD",
        "outputId": "8bad3896-cb84-4ac2-b791-0d6cd95798e7"
      },
      "execution_count": null,
      "outputs": [
        {
          "output_type": "stream",
          "name": "stdout",
          "text": [
            "54\n",
            "The grade for the student is  D\n"
          ]
        }
      ]
    },
    {
      "cell_type": "code",
      "source": [
        "x = 30\n",
        "if x > 40 :\n",
        "  if x < 50 :\n",
        "    print(\"its bnmdbedfjsagj\")\n",
        "else :\n",
        "  print(\"Not x less than 40\")"
      ],
      "metadata": {
        "colab": {
          "base_uri": "https://localhost:8080/"
        },
        "id": "PeDGC2jsQ5hx",
        "outputId": "775a2b95-8ad2-44a1-f48e-6fa07b459854"
      },
      "execution_count": null,
      "outputs": [
        {
          "output_type": "stream",
          "name": "stdout",
          "text": [
            "Not x less than 40\n"
          ]
        }
      ]
    },
    {
      "cell_type": "markdown",
      "source": [
        "## Loops\n",
        "- while\n",
        "- for\n",
        "- nested for"
      ],
      "metadata": {
        "id": "KV3OEGtVESLE"
      }
    },
    {
      "cell_type": "code",
      "source": [
        "num = int(input(\"Enter a number: \"))\n",
        "current = 1\n",
        "while current <= 10:\n",
        "  print(\"{0} X {1} = {2}\".format(num, current, (num * current)))\n",
        "  current = current + 1"
      ],
      "metadata": {
        "colab": {
          "base_uri": "https://localhost:8080/"
        },
        "id": "xSLvyzpYECSO",
        "outputId": "d72f78a7-0cc2-433e-cf7e-63b248ec490a"
      },
      "execution_count": null,
      "outputs": [
        {
          "output_type": "stream",
          "name": "stdout",
          "text": [
            "Enter a number: 8\n",
            "8 X 1 = 8\n",
            "8 X 2 = 16\n",
            "8 X 3 = 24\n",
            "8 X 4 = 32\n",
            "8 X 5 = 40\n",
            "8 X 6 = 48\n",
            "8 X 7 = 56\n",
            "8 X 8 = 64\n",
            "8 X 9 = 72\n",
            "8 X 10 = 80\n"
          ]
        }
      ]
    },
    {
      "cell_type": "code",
      "source": [
        "# for <temp_var> in <sequence> :\n",
        "#range(start,end, step)\n",
        "num = int(input(\"Enter a number: \"))\n",
        "for current in range(1, 11):\n",
        "  print(\"{0} X {1} = {2}\".format(num, current, (num * current)))"
      ],
      "metadata": {
        "id": "jsWXQD39EVG_",
        "colab": {
          "base_uri": "https://localhost:8080/"
        },
        "outputId": "6b973857-cb52-4008-a4a0-96ec4c9bcebd"
      },
      "execution_count": null,
      "outputs": [
        {
          "output_type": "stream",
          "name": "stdout",
          "text": [
            "Enter a number: 8\n",
            "8 X 1 = 8\n",
            "8 X 3 = 24\n",
            "8 X 5 = 40\n",
            "8 X 7 = 56\n",
            "8 X 9 = 72\n"
          ]
        }
      ]
    },
    {
      "cell_type": "code",
      "source": [
        "number = int(input(\"Enter a number: \"))\n",
        "for current in range(1, number+1):\n",
        "  for num in range(1,11):\n",
        "    print(\"{0} X {1} = {2}\".format(current , num , (num * current)))"
      ],
      "metadata": {
        "colab": {
          "base_uri": "https://localhost:8080/"
        },
        "id": "QwS-ZTH-UVjw",
        "outputId": "5e783950-9ac4-4391-e14d-4ed1b19eda77"
      },
      "execution_count": null,
      "outputs": [
        {
          "output_type": "stream",
          "name": "stdout",
          "text": [
            "Enter a number: 4\n",
            "1 X 1 = 1\n",
            "1 X 2 = 2\n",
            "1 X 3 = 3\n",
            "1 X 4 = 4\n",
            "1 X 5 = 5\n",
            "1 X 6 = 6\n",
            "1 X 7 = 7\n",
            "1 X 8 = 8\n",
            "1 X 9 = 9\n",
            "1 X 10 = 10\n",
            "2 X 1 = 2\n",
            "2 X 2 = 4\n",
            "2 X 3 = 6\n",
            "2 X 4 = 8\n",
            "2 X 5 = 10\n",
            "2 X 6 = 12\n",
            "2 X 7 = 14\n",
            "2 X 8 = 16\n",
            "2 X 9 = 18\n",
            "2 X 10 = 20\n",
            "3 X 1 = 3\n",
            "3 X 2 = 6\n",
            "3 X 3 = 9\n",
            "3 X 4 = 12\n",
            "3 X 5 = 15\n",
            "3 X 6 = 18\n",
            "3 X 7 = 21\n",
            "3 X 8 = 24\n",
            "3 X 9 = 27\n",
            "3 X 10 = 30\n",
            "4 X 1 = 4\n",
            "4 X 2 = 8\n",
            "4 X 3 = 12\n",
            "4 X 4 = 16\n",
            "4 X 5 = 20\n",
            "4 X 6 = 24\n",
            "4 X 7 = 28\n",
            "4 X 8 = 32\n",
            "4 X 9 = 36\n",
            "4 X 10 = 40\n"
          ]
        }
      ]
    },
    {
      "cell_type": "markdown",
      "source": [
        "## Loop control statements"
      ],
      "metadata": {
        "id": "DNPuLOwxEb7m"
      }
    },
    {
      "cell_type": "code",
      "source": [
        "# Normal Execution\n",
        "for x in range(1, 10):\n",
        "  print(x)"
      ],
      "metadata": {
        "colab": {
          "base_uri": "https://localhost:8080/"
        },
        "id": "HfvBXp5eEiSO",
        "outputId": "ece5de76-d409-4d5a-9454-589e172540c7"
      },
      "execution_count": null,
      "outputs": [
        {
          "output_type": "stream",
          "name": "stdout",
          "text": [
            "1\n",
            "2\n",
            "3\n",
            "4\n",
            "5\n",
            "6\n",
            "7\n",
            "8\n",
            "9\n"
          ]
        }
      ]
    },
    {
      "cell_type": "code",
      "source": [
        "# Using Break\n",
        "for x in range(1, 10):\n",
        "  if x == 5:\n",
        "    break\n",
        "  print(x)"
      ],
      "metadata": {
        "colab": {
          "base_uri": "https://localhost:8080/"
        },
        "id": "LD8Kwh83ElDf",
        "outputId": "c8ecdc98-3e8b-4e54-8e96-9ef224df745b"
      },
      "execution_count": null,
      "outputs": [
        {
          "output_type": "stream",
          "name": "stdout",
          "text": [
            "1\n",
            "2\n",
            "3\n",
            "4\n"
          ]
        }
      ]
    },
    {
      "cell_type": "code",
      "source": [
        "# Using Continue\n",
        "for x in range(1, 10):\n",
        "  if x == 5:\n",
        "    continue\n",
        "  print(x)"
      ],
      "metadata": {
        "colab": {
          "base_uri": "https://localhost:8080/"
        },
        "id": "UHj1KzdhExex",
        "outputId": "3f20fa26-83b5-4ee1-87b1-e220e821a16f"
      },
      "execution_count": null,
      "outputs": [
        {
          "output_type": "stream",
          "name": "stdout",
          "text": [
            "1\n",
            "2\n",
            "3\n",
            "4\n",
            "6\n",
            "7\n",
            "8\n",
            "9\n"
          ]
        }
      ]
    },
    {
      "cell_type": "markdown",
      "source": [
        "## Lists"
      ],
      "metadata": {
        "id": "oZ_rznDEFM1X"
      }
    },
    {
      "cell_type": "code",
      "source": [
        "# Initializing\n",
        "marks = [50, 99, 78, 88, 90] # Marks of a student with index a roll numbers\n",
        "print(\"Marks of student with roll number 0 is:\", marks[0])"
      ],
      "metadata": {
        "colab": {
          "base_uri": "https://localhost:8080/"
        },
        "id": "bp5DJ7xtE8gv",
        "outputId": "c48229b8-fa2a-472b-ca67-0f113f338914"
      },
      "execution_count": null,
      "outputs": [
        {
          "output_type": "stream",
          "name": "stdout",
          "text": [
            "Marks of student with roll number 0 is: 50\n"
          ]
        }
      ]
    },
    {
      "cell_type": "code",
      "source": [
        "print(\"Marks before appending\", marks)\n",
        "marks.append(88)\n",
        "print(\"Marks after appending\", marks)"
      ],
      "metadata": {
        "colab": {
          "base_uri": "https://localhost:8080/"
        },
        "id": "kyE-Y4JkFPj1",
        "outputId": "09fee178-82ba-47a6-bcb9-f41c158a6b91"
      },
      "execution_count": null,
      "outputs": [
        {
          "output_type": "stream",
          "name": "stdout",
          "text": [
            "Marks before appending [50, 99, 78, 88, 90]\n",
            "Marks after appending [50, 99, 78, 88, 90, 88]\n"
          ]
        }
      ]
    },
    {
      "cell_type": "code",
      "source": [
        "print(\"Marks before deleting last element\", marks)\n",
        "marks.pop()\n",
        "print(\"Marks after deleting last element\", marks)"
      ],
      "metadata": {
        "colab": {
          "base_uri": "https://localhost:8080/"
        },
        "id": "YPHk5Hf6FSfM",
        "outputId": "3fefbc05-87c9-4355-fdd5-2eb5fdcf204b"
      },
      "execution_count": null,
      "outputs": [
        {
          "output_type": "stream",
          "name": "stdout",
          "text": [
            "Marks before deleting last element [50, 99, 78, 88, 90, 88]\n",
            "Marks after deleting last element [50, 99, 78, 88, 90]\n"
          ]
        }
      ]
    },
    {
      "cell_type": "code",
      "source": [
        "print(\"Marks before deleting first element\", marks)\n",
        "marks.pop(0)\n",
        "print(\"Marks after deleting first element\", marks)"
      ],
      "metadata": {
        "colab": {
          "base_uri": "https://localhost:8080/"
        },
        "id": "RIikkDOeFUze",
        "outputId": "171fa850-e3d2-45d9-8c64-4215a28bdcd2"
      },
      "execution_count": null,
      "outputs": [
        {
          "output_type": "stream",
          "name": "stdout",
          "text": [
            "Marks before deleting first element [50, 99, 78, 88, 90]\n",
            "Marks after deleting first element [99, 78, 88, 90]\n"
          ]
        }
      ]
    },
    {
      "cell_type": "code",
      "source": [
        "if 99 in marks: print(\"A Student Got 99 Marks\")\n",
        "else: print(\"No Student Got 99 Marks\")"
      ],
      "metadata": {
        "colab": {
          "base_uri": "https://localhost:8080/"
        },
        "id": "ERYCkJBbFXdj",
        "outputId": "4122919b-3496-4319-f17a-756921bebcec"
      },
      "execution_count": null,
      "outputs": [
        {
          "output_type": "stream",
          "name": "stdout",
          "text": [
            "A Student Got 99 Marks\n"
          ]
        }
      ]
    },
    {
      "cell_type": "code",
      "source": [
        "index = marks.index(99)\n",
        "print(index)"
      ],
      "metadata": {
        "colab": {
          "base_uri": "https://localhost:8080/"
        },
        "id": "jb9vobi1FZlz",
        "outputId": "a74be861-c2df-4729-cfd3-bdf5205b30e1"
      },
      "execution_count": null,
      "outputs": [
        {
          "output_type": "stream",
          "name": "stdout",
          "text": [
            "0\n"
          ]
        }
      ]
    },
    {
      "cell_type": "code",
      "source": [
        "print(\"Before swapping\", marks)\n",
        "marks[0], marks[1] = marks[1], marks[0]\n",
        "print(\"After swapping\", marks)"
      ],
      "metadata": {
        "colab": {
          "base_uri": "https://localhost:8080/"
        },
        "id": "usfGZ04qFcEb",
        "outputId": "b48865c6-dad8-4d23-a788-c672c17aa9a9"
      },
      "execution_count": null,
      "outputs": [
        {
          "output_type": "stream",
          "name": "stdout",
          "text": [
            "Before swapping [99, 78, 88, 90]\n",
            "After swapping [78, 99, 88, 90]\n"
          ]
        }
      ]
    },
    {
      "cell_type": "code",
      "source": [
        "print(\"First 2 elements\", marks[:2])\n",
        "print(\"Last 2 elements\", marks[-2:])"
      ],
      "metadata": {
        "colab": {
          "base_uri": "https://localhost:8080/"
        },
        "id": "71G0Ob8nFePm",
        "outputId": "281fb8ca-2d70-49a2-d241-5015a8f64ca4"
      },
      "execution_count": null,
      "outputs": [
        {
          "output_type": "stream",
          "name": "stdout",
          "text": [
            "First 2 elements [78, 99]\n",
            "Last 2 elements [88, 90]\n"
          ]
        }
      ]
    },
    {
      "cell_type": "markdown",
      "source": [
        "## Tuple"
      ],
      "metadata": {
        "id": "cv185SxQFmp7"
      }
    },
    {
      "cell_type": "code",
      "source": [
        "# Initialize\n",
        "months = \"January\", \"February\", \"March\", \"April\", \"May\", \"June\", \"July\", \"August\", \"September\", \"October\", \"Novemebr\", \"December\""
      ],
      "metadata": {
        "id": "y8ShnV2PFg15"
      },
      "execution_count": null,
      "outputs": []
    },
    {
      "cell_type": "code",
      "source": [
        "print(months)\n",
        "print(\"First Month: \", months[0])"
      ],
      "metadata": {
        "colab": {
          "base_uri": "https://localhost:8080/"
        },
        "id": "Pm1bqzfjFpaL",
        "outputId": "592d7f57-7a08-4d5e-ea8e-33f5f0a17185"
      },
      "execution_count": null,
      "outputs": [
        {
          "output_type": "stream",
          "name": "stdout",
          "text": [
            "('January', 'February', 'March', 'April', 'May', 'June', 'July', 'August', 'September', 'October', 'Novemebr', 'December')\n",
            "First Month:  January\n"
          ]
        }
      ]
    },
    {
      "cell_type": "code",
      "source": [
        "if \"January\" in months: print(\"January is in Months\")\n",
        "else: print(\"January is not in Months\")"
      ],
      "metadata": {
        "colab": {
          "base_uri": "https://localhost:8080/"
        },
        "id": "cDEYIwf1FtRd",
        "outputId": "b491322c-8180-49ad-e7d1-17f0ba80af2a"
      },
      "execution_count": null,
      "outputs": [
        {
          "output_type": "stream",
          "name": "stdout",
          "text": [
            "January is in Months\n"
          ]
        }
      ]
    },
    {
      "cell_type": "code",
      "source": [
        "print(\"First 6 Months\", months[:6])"
      ],
      "metadata": {
        "colab": {
          "base_uri": "https://localhost:8080/"
        },
        "id": "brvEhMSSFyWS",
        "outputId": "14b093bf-630f-4a9e-ff33-5b11c6151858"
      },
      "execution_count": null,
      "outputs": [
        {
          "output_type": "stream",
          "name": "stdout",
          "text": [
            "First 6 Months ('January', 'February', 'March', 'April', 'May', 'June')\n"
          ]
        }
      ]
    },
    {
      "cell_type": "markdown",
      "source": [
        "## Sets"
      ],
      "metadata": {
        "id": "9AWGLcbhF8Mw"
      }
    },
    {
      "cell_type": "code",
      "source": [
        "users = set([\"admin\", \"john\"])"
      ],
      "metadata": {
        "id": "FQk7klBSF16c"
      },
      "execution_count": null,
      "outputs": []
    },
    {
      "cell_type": "code",
      "source": [
        "name = input(\"Enter a username: \")\n",
        "if name in users:\n",
        "  print(\"username is alrady taken\")\n",
        "else:\n",
        "  users.add(name)\n",
        "  print(\"user registered\")"
      ],
      "metadata": {
        "colab": {
          "base_uri": "https://localhost:8080/"
        },
        "id": "6CfNobBlF-Rq",
        "outputId": "3cd8ebd7-c973-443b-aa35-1b151b856c39"
      },
      "execution_count": null,
      "outputs": [
        {
          "output_type": "stream",
          "name": "stdout",
          "text": [
            "Enter a username: yo\n",
            "user registered\n"
          ]
        }
      ]
    },
    {
      "cell_type": "code",
      "source": [
        "users.remove('admin')\n",
        "print(\"admin removed from registered users\")"
      ],
      "metadata": {
        "colab": {
          "base_uri": "https://localhost:8080/"
        },
        "id": "K-K62G0tGEPP",
        "outputId": "8da57e6f-51af-426e-da7d-36d017ec3d52"
      },
      "execution_count": null,
      "outputs": [
        {
          "output_type": "stream",
          "name": "stdout",
          "text": [
            "admin removed from registered users\n"
          ]
        }
      ]
    },
    {
      "cell_type": "code",
      "source": [
        "print('admin' in users)\n",
        "print('john' in users)"
      ],
      "metadata": {
        "colab": {
          "base_uri": "https://localhost:8080/"
        },
        "id": "ACoaU6QiGQYV",
        "outputId": "ebb86d07-d120-410e-b2d4-9f00af1175ca"
      },
      "execution_count": null,
      "outputs": [
        {
          "output_type": "stream",
          "name": "stdout",
          "text": [
            "False\n",
            "True\n"
          ]
        }
      ]
    },
    {
      "cell_type": "markdown",
      "source": [
        "## Dictionaries"
      ],
      "metadata": {
        "id": "acN0wRImGVIv"
      }
    },
    {
      "cell_type": "code",
      "source": [
        "students = dict([[100, 'Jane'], [102, 'Ron']])"
      ],
      "metadata": {
        "id": "VVZJ_OTGGUbm"
      },
      "execution_count": null,
      "outputs": []
    },
    {
      "cell_type": "code",
      "source": [
        "roll_no = int(input(\"Enter student roll number: \"))\n",
        "name = input(\"Enter student name: \")\n",
        "students[roll_no] = name\n",
        "print(students)"
      ],
      "metadata": {
        "colab": {
          "base_uri": "https://localhost:8080/"
        },
        "id": "saf9THcqGbun",
        "outputId": "1ef1152b-1595-462b-e053-5ba27fc0977d"
      },
      "execution_count": null,
      "outputs": [
        {
          "output_type": "stream",
          "name": "stdout",
          "text": [
            "Enter student roll number: 25\n",
            "Enter student name: rev\n",
            "{100: 'Jane', 102: 'Ron', 25: 'rev'}\n"
          ]
        }
      ]
    },
    {
      "cell_type": "code",
      "source": [
        "print(\"Before Deleting Roll No: 101\")\n",
        "print(students)\n",
        "del students[101]\n",
        "print(\"After Deleting Roll No: 101\")\n",
        "print(students)"
      ],
      "metadata": {
        "colab": {
          "base_uri": "https://localhost:8080/",
          "height": 279
        },
        "id": "193z8WA_GeMz",
        "outputId": "58291df5-27a7-4a28-9067-fbd4b2c0c67e"
      },
      "execution_count": null,
      "outputs": [
        {
          "output_type": "stream",
          "name": "stdout",
          "text": [
            "Before Deleting Roll No: 101\n",
            "{100: 'Jane', 102: 'Ron', 25: 'rev'}\n"
          ]
        },
        {
          "output_type": "error",
          "ename": "KeyError",
          "evalue": "101",
          "traceback": [
            "\u001b[0;31m---------------------------------------------------------------------------\u001b[0m",
            "\u001b[0;31mKeyError\u001b[0m                                  Traceback (most recent call last)",
            "\u001b[0;32m<ipython-input-41-9fa2c57a64d2>\u001b[0m in \u001b[0;36m<cell line: 3>\u001b[0;34m()\u001b[0m\n\u001b[1;32m      1\u001b[0m \u001b[0mprint\u001b[0m\u001b[0;34m(\u001b[0m\u001b[0;34m\"Before Deleting Roll No: 101\"\u001b[0m\u001b[0;34m)\u001b[0m\u001b[0;34m\u001b[0m\u001b[0;34m\u001b[0m\u001b[0m\n\u001b[1;32m      2\u001b[0m \u001b[0mprint\u001b[0m\u001b[0;34m(\u001b[0m\u001b[0mstudents\u001b[0m\u001b[0;34m)\u001b[0m\u001b[0;34m\u001b[0m\u001b[0;34m\u001b[0m\u001b[0m\n\u001b[0;32m----> 3\u001b[0;31m \u001b[0;32mdel\u001b[0m \u001b[0mstudents\u001b[0m\u001b[0;34m[\u001b[0m\u001b[0;36m101\u001b[0m\u001b[0;34m]\u001b[0m\u001b[0;34m\u001b[0m\u001b[0;34m\u001b[0m\u001b[0m\n\u001b[0m\u001b[1;32m      4\u001b[0m \u001b[0mprint\u001b[0m\u001b[0;34m(\u001b[0m\u001b[0;34m\"After Deleting Roll No: 101\"\u001b[0m\u001b[0;34m)\u001b[0m\u001b[0;34m\u001b[0m\u001b[0;34m\u001b[0m\u001b[0m\n\u001b[1;32m      5\u001b[0m \u001b[0mprint\u001b[0m\u001b[0;34m(\u001b[0m\u001b[0mstudents\u001b[0m\u001b[0;34m)\u001b[0m\u001b[0;34m\u001b[0m\u001b[0;34m\u001b[0m\u001b[0m\n",
            "\u001b[0;31mKeyError\u001b[0m: 101"
          ]
        }
      ]
    },
    {
      "cell_type": "code",
      "source": [
        "if 101 in students: print(\"Student with roll no 101 is in the list\")\n",
        "else: print(\"Student with roll no 101 is not in the list\")"
      ],
      "metadata": {
        "colab": {
          "base_uri": "https://localhost:8080/"
        },
        "id": "i9lsji0aGlZE",
        "outputId": "67c8676c-b3cd-45b2-b0f7-1d391ecee844"
      },
      "execution_count": null,
      "outputs": [
        {
          "output_type": "stream",
          "name": "stdout",
          "text": [
            "Student with roll no 101 is not in the list\n"
          ]
        }
      ]
    },
    {
      "cell_type": "markdown",
      "source": [
        "## Comprehensions"
      ],
      "metadata": {
        "id": "_Pux8Lc5G8ZK"
      }
    },
    {
      "cell_type": "code",
      "source": [
        "squares = {x: x * x for x in range(1, 11)}"
      ],
      "metadata": {
        "id": "Zfg-BymXGvJv"
      },
      "execution_count": null,
      "outputs": []
    },
    {
      "cell_type": "code",
      "source": [
        "print(squares)"
      ],
      "metadata": {
        "colab": {
          "base_uri": "https://localhost:8080/"
        },
        "id": "kDr4jTVwHAJJ",
        "outputId": "e5cc688d-fec8-4525-ca9b-5bbe6b720430"
      },
      "execution_count": null,
      "outputs": [
        {
          "output_type": "stream",
          "name": "stdout",
          "text": [
            "{1: 1, 2: 4, 3: 9, 4: 16, 5: 25, 6: 36, 7: 49, 8: 64, 9: 81, 10: 100}\n"
          ]
        }
      ]
    },
    {
      "cell_type": "code",
      "source": [
        "keys = [x for x in squares.keys()]\n",
        "values = [x for x in squares.values()]"
      ],
      "metadata": {
        "id": "uCXg0GkGHDWk"
      },
      "execution_count": null,
      "outputs": []
    },
    {
      "cell_type": "code",
      "source": [
        "print(keys)\n",
        "print(values)"
      ],
      "metadata": {
        "colab": {
          "base_uri": "https://localhost:8080/"
        },
        "id": "_Y_uivU3HF9r",
        "outputId": "b33bbe00-8bbd-4ee5-d690-04ba3f8627f6"
      },
      "execution_count": null,
      "outputs": [
        {
          "output_type": "stream",
          "name": "stdout",
          "text": [
            "[1, 2, 3, 4, 5, 6, 7, 8, 9, 10]\n",
            "[1, 4, 9, 16, 25, 36, 49, 64, 81, 100]\n"
          ]
        }
      ]
    },
    {
      "cell_type": "markdown",
      "source": [
        "## Functions\n",
        "\n",
        "Perform the following tasks\n",
        "- Create a dictionary to hold student roll numbers nad name as keys and values\n",
        "- Create a function to insert a unique roll no and name of students in the dictionary\n",
        "- Create a function to print all student in the dictionary"
      ],
      "metadata": {
        "id": "haCxzalWHRNf"
      }
    },
    {
      "cell_type": "code",
      "source": [
        "students = {\n",
        "100: 'Jane',\n",
        "102: 'Sam'\n",
        "}\n",
        "def get_student_info():\n",
        "  roll_no = int(input(\"Enter student roll number: \"))\n",
        "  if roll_no in students:\n",
        "    print('Student with Roll No {0} Already Exists'.format(roll_no))\n",
        "  else:\n",
        "    name = input(\"Enter student name: \")\n",
        "    students[roll_no] = name\n",
        "\n",
        "def print_student_info():\n",
        "  for roll_no in students.keys():\n",
        "    print(\"Roll No: {0}, Name: {1}\".format(roll_no, students[roll_no]))"
      ],
      "metadata": {
        "id": "0jJDs7zAHITO"
      },
      "execution_count": null,
      "outputs": []
    },
    {
      "cell_type": "code",
      "source": [
        "get_student_info()\n",
        "print_student_info()"
      ],
      "metadata": {
        "colab": {
          "base_uri": "https://localhost:8080/"
        },
        "id": "2Igpp25sHjSK",
        "outputId": "6cc007ce-d581-4fb7-e0f0-562a0a16ccf7"
      },
      "execution_count": null,
      "outputs": [
        {
          "output_type": "stream",
          "name": "stdout",
          "text": [
            "Enter student roll number: 12\n",
            "Enter student name: raven\n",
            "Roll No: 100, Name: Jane\n",
            "Roll No: 102, Name: Sam\n",
            "Roll No: 12, Name: raven\n"
          ]
        }
      ]
    },
    {
      "cell_type": "code",
      "source": [
        "# Lambda Fuctions\n",
        "def transfrom(data, opeations):\n",
        "  for opeation in opeations:\n",
        "    for index in range(0, len(data)):\n",
        "      data[index] = opeation(data[index])\n",
        "\n",
        "data = [1, 2, 3, 4]\n",
        "increment_by_one = lambda x: x + 1\n",
        "double = lambda x: x * 2\n",
        "operations = [increment_by_one, double]\n",
        "print(data)\n",
        "transfrom(data, operations)\n",
        "print(data)"
      ],
      "metadata": {
        "colab": {
          "base_uri": "https://localhost:8080/"
        },
        "id": "TxKcwssdHoiK",
        "outputId": "0efbedbf-26eb-4591-8aaa-80854d3cf5d2"
      },
      "execution_count": null,
      "outputs": [
        {
          "output_type": "stream",
          "name": "stdout",
          "text": [
            "[1, 2, 3, 4]\n",
            "[4, 6, 8, 10]\n"
          ]
        }
      ]
    },
    {
      "cell_type": "code",
      "source": [],
      "metadata": {
        "id": "Rwt9SHCJH50j"
      },
      "execution_count": null,
      "outputs": []
    }
  ]
}